{
 "cells": [
  {
   "cell_type": "markdown",
   "metadata": {},
   "source": [
    "# Schema Engineering with Pydantic"
   ]
  },
  {
   "cell_type": "markdown",
   "metadata": {},
   "source": [
    "This notebook reports the code for the examples in the blog post Schema Engineering for Structured Generation with Pydantic, the second in the series \"Building Reproducible LLM Applications\"."
   ]
  },
  {
   "cell_type": "code",
   "execution_count": null,
   "metadata": {},
   "outputs": [],
   "source": [
    "!pip3 install pydantic\n",
    "!pip3 install anthropic"
   ]
  },
  {
   "cell_type": "markdown",
   "metadata": {},
   "source": [
    "### Writing Schemas\n",
    "\n",
    "Basics of Pydantic to write down abstract schemas that can also be used to validate data."
   ]
  },
  {
   "cell_type": "code",
   "execution_count": null,
   "metadata": {},
   "outputs": [],
   "source": [
    "from pydantic import BaseModel\n",
    "from typing import Literal\n",
    "from enum import Enum\n",
    "from pydantic import Field, field_validator, model_validator\n",
    "from typing import Optional"
   ]
  },
  {
   "cell_type": "code",
   "execution_count": null,
   "metadata": {},
   "outputs": [],
   "source": [
    "class Dogs(BaseModel):\n",
    "    breed: str\n",
    "    toy: str\n",
    "\n",
    "# An instance\n",
    "Bella = Dogs(breed = \"Poodle\", toy=\"ball\")\n",
    "print(Bella)"
   ]
  },
  {
   "cell_type": "code",
   "execution_count": null,
   "metadata": {},
   "outputs": [],
   "source": [
    "class Hair(Enum):\n",
    "    Curly = \"curly\"\n",
    "    Straight = \"straight\"\n",
    "    Shaved = \"shaved\"\n",
    "\n",
    "class Dogs(BaseModel):\n",
    "    breed: str\n",
    "    toy: str\n",
    "    hair: Hair\n",
    "    color: Literal[\"brown\", \"white\"]"
   ]
  },
  {
   "cell_type": "code",
   "execution_count": null,
   "metadata": {},
   "outputs": [],
   "source": [
    "# Charlie is not valid because of toy and color. This will raise Validation Error\n",
    "Charlie = Dogs(breed=\"Corgi\", toy=12, hair=Hair.Straight, color=\"red\")"
   ]
  },
  {
   "cell_type": "code",
   "execution_count": null,
   "metadata": {},
   "outputs": [],
   "source": [
    "class Dogs(BaseModel):\n",
    "    breed: str = Field(description=\"The name of an existing breed\")\n",
    "    toy: str = Field(max_length=50)\n",
    "    hair: Hair = Field(description=\"The hair type of the dog\")\n",
    "    color: Optional[Literal[\"brown\", \"white\"]] = Field(default=None)\n",
    "    age: int = Field(default=1, gt=0, description=\"Age must be greater than 0\")\n",
    "\n",
    "    @field_validator('breed') \n",
    "    def check_name(cls, value):\n",
    "        if any(char in value for char in \"!@#^*\"):\n",
    "            raise ValueError('Breed cannot contain special characters')\n",
    "        return value\n",
    "    \n",
    "    # Adding a new cross-field validator to the Dogs class\n",
    "    @model_validator(mode='before')\n",
    "    def check_hair_and_color(cls, values):\n",
    "        hair = values.get('hair')\n",
    "        color = values.get('color')\n",
    "        # If hair is shaved, color can be None or absent\n",
    "        if hair == Hair.Shaved and color is not None:\n",
    "            raise ValueError(\"Dogs with shaved hair should not have a color.\")\n",
    "        # If hair is curly or straight, color must be specified and cannot be None\n",
    "        if hair in {Hair.Curly, Hair.Straight} and color is None:\n",
    "            raise ValueError(\"Dogs with curly or straight hair must have a color.\")\n",
    "        return values"
   ]
  },
  {
   "cell_type": "code",
   "execution_count": null,
   "metadata": {},
   "outputs": [],
   "source": [
    "# Coco is not valid because of the hair-color inconsistency\n",
    "Coco = Dogs(breed = \"Beagle\", toy = \"socks\", hair = Hair.Curly, age = 1)"
   ]
  },
  {
   "cell_type": "code",
   "execution_count": null,
   "metadata": {},
   "outputs": [],
   "source": [
    "# Visualize schema in JSON format\n",
    "pydantic_to_json= Dogs.model_json_schema()\n",
    "print(pydantic_to_json)"
   ]
  },
  {
   "cell_type": "markdown",
   "metadata": {},
   "source": [
    "### Integrating Schemas with Claude Calls\n",
    "\n",
    "For this tutorial, we'll integrate this schema as JSON object in the system prompt"
   ]
  },
  {
   "cell_type": "code",
   "execution_count": null,
   "metadata": {},
   "outputs": [],
   "source": [
    "import anthropic\n",
    "from pydantic import ValidationError"
   ]
  },
  {
   "cell_type": "code",
   "execution_count": null,
   "metadata": {},
   "outputs": [],
   "source": [
    "# Setup environment\n",
    "anthropic_api_key = \"YOUR-KEY-GOES-HERE\"\n",
    "client = anthropic.Anthropic(api_key=anthropic_api_key)"
   ]
  },
  {
   "cell_type": "code",
   "execution_count": null,
   "metadata": {},
   "outputs": [],
   "source": [
    "class BasicDogs(BaseModel):\n",
    "    breed: str = Field(description=\"The name of an existing breed\")\n",
    "    toy: str = Field(max_length=4)\n",
    "\n",
    "schema = BasicDogs.model_json_schema()\n",
    "print(schema)"
   ]
  },
  {
   "cell_type": "code",
   "execution_count": null,
   "metadata": {},
   "outputs": [],
   "source": [
    "def call_model(sys_prompt, user_prompt):\n",
    "    response = client.messages.create(\n",
    "        model=\"claude-3-5-sonnet-20240620\",\n",
    "        system=sys_prompt,\n",
    "        messages=[\n",
    "            {\"role\": \"user\", \"content\": user_prompt}\n",
    "        ],\n",
    "        max_tokens=1024,\n",
    "    )\n",
    "    llm_answer = response.content[0].text\n",
    "    return llm_answer"
   ]
  },
  {
   "cell_type": "code",
   "execution_count": null,
   "metadata": {},
   "outputs": [],
   "source": [
    "sys_prompt = f\"You are a helpful assistant that responds in the same format as the following example schema: {schema}\"\n",
    "user_prompt = \"Extract dog information from: Bella is a curly black Poodle, who loves playing football and chess.```\\n\"\n"
   ]
  },
  {
   "cell_type": "code",
   "execution_count": null,
   "metadata": {},
   "outputs": [],
   "source": [
    "for i in range(10):\n",
    "    print(f\"LLM call number: {i}\")\n",
    "    llm_answer = call_model(sys_prompt,user_prompt)\n",
    "    try:\n",
    "        # Pydantic validates all fields at once\n",
    "        dog = BasicDogs.model_validate_json(llm_answer)\n",
    "    except ValidationError as e:\n",
    "        print(\"Error!\")\n",
    "        print(llm_answer)\n",
    "        # This gives the chance to retry immediately for errors\n",
    "        ret_sys_p = f\"You are a helpful assistant that responds in the same format as the following example schema: {schema}. Previously, you gave me an incorrect output: {llm_answer}. This was incorrect because of these errors {e}. \"\n",
    "        retry_answer =  call_model(sys_prompt,user_prompt)\n",
    "        try:\n",
    "            dog = BasicDogs.model_validate_json(retry_answer)\n",
    "        except ValidationError:\n",
    "            print(\"Still Error!\")"
   ]
  },
  {
   "cell_type": "markdown",
   "metadata": {},
   "source": [
    "Now doing the same but without Pydantic"
   ]
  },
  {
   "cell_type": "code",
   "execution_count": null,
   "metadata": {},
   "outputs": [],
   "source": [
    "import json\n",
    "\n",
    "# Defining the schema\n",
    "manual_schema = {\n",
    "    \"type\": \"object\",\n",
    "    \"properties\": {\n",
    "        \"breed\": { \"type\": \"string\" },\n",
    "        \"toy\": { \"type\": \"string\" }\n",
    "        },\n",
    "     \"required\": [\"breed\",\"toy\"] \n",
    "      }\n",
    "\n",
    "# Adding requirements in the systm prompt\n",
    "sys_prompt = f\"You are a helpful assistant that responds in the same format as the following example schema: {manual_schema}. Note that toy can have max four characters.\"\n",
    "    \n"
   ]
  },
  {
   "cell_type": "code",
   "execution_count": null,
   "metadata": {},
   "outputs": [],
   "source": [
    "# Calling the model 10 times\n",
    "for i in range(10):\n",
    "    print(f\"LLM call number: {i}\")\n",
    "    llm_answer = call_model(sys_prompt,user_prompt)\n",
    "    # convert string into a dictionary\n",
    "    llm_dict = json.loads(llm_answer)\n",
    "    # Validate data\n",
    "\n",
    "    # Manually check that it can be converted into a dictionary\n",
    "    dog_dictionary = { \"breed\": llm_dict[\"breed\"],\n",
    "                      \"toy\": llm_dict[\"toy\"]\n",
    "                      }\n",
    "    # Manually check if constraints are respected\n",
    "    try:\n",
    "        assert type(dog_dictionary[\"breed\"])==str\n",
    "        assert type(dog_dictionary[\"toy\"])==str\n",
    "        assert len(dog_dictionary[\"toy\"])<=4\n",
    "    except AssertionError as e:\n",
    "        print(\"Error!\")\n",
    "        "
   ]
  }
 ],
 "metadata": {
  "kernelspec": {
   "display_name": ".venv",
   "language": "python",
   "name": "python3"
  },
  "language_info": {
   "codemirror_mode": {
    "name": "ipython",
    "version": 3
   },
   "file_extension": ".py",
   "mimetype": "text/x-python",
   "name": "python",
   "nbconvert_exporter": "python",
   "pygments_lexer": "ipython3",
   "version": "3.12.6"
  }
 },
 "nbformat": 4,
 "nbformat_minor": 2
}
