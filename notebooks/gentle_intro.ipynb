{
 "cells": [
  {
   "cell_type": "code",
   "execution_count": 2,
   "metadata": {},
   "outputs": [],
   "source": [
    "import anthropic\n",
    "from dotenv import load_dotenv\n",
    "import os\n",
    "load_dotenv()\n",
    "key = os.environ[\"ANTHROPIC_API_KEY\"]\n",
    "if key is None:\n",
    "    raise ValueError(\"Error: ANTHROPIC_API_KEY not found\")\n",
    "client = anthropic.Anthropic(\n",
    "    api_key=key,\n",
    ")"
   ]
  },
  {
   "cell_type": "code",
   "execution_count": 7,
   "metadata": {},
   "outputs": [
    {
     "name": "stdout",
     "output_type": "stream",
     "text": [
      "Message(id='msg_01JP2jU4EmvgYXbpcGSrdxu6', content=[TextBlock(text='A JSON schema is a declarative format for describing the structure, content, and validation rules of JSON data.', type='text')], model='claude-3-5-sonnet-20240620', role='assistant', stop_reason='end_turn', stop_sequence=None, type='message', usage=Usage(input_tokens=16, output_tokens=25))\n"
     ]
    }
   ],
   "source": [
    "response = client.messages.create(\n",
    "    model=\"claude-3-5-sonnet-20240620\",\n",
    "    messages=[\n",
    "        {\"role\": \"user\", \"content\": \"What is a JSON schema in a sentence?\"}\n",
    "    ],\n",
    "    max_tokens=200,\n",
    ")\n",
    "print(response)\n"
   ]
  },
  {
   "cell_type": "code",
   "execution_count": 8,
   "metadata": {},
   "outputs": [
    {
     "name": "stdout",
     "output_type": "stream",
     "text": [
      "A JSON schema is a declarative format for describing the structure, content, and validation rules of JSON data.\n"
     ]
    }
   ],
   "source": [
    "text_response = response.content[0].text\n",
    "print(text_response)"
   ]
  },
  {
   "cell_type": "code",
   "execution_count": 9,
   "metadata": {},
   "outputs": [
    {
     "name": "stdout",
     "output_type": "stream",
     "text": [
      "{'topic': 'zip format', 'citations': [{'citation_number': 1, 'source': 'https://example.com'}], 'answer': 'The .zip format is a compressed file format that groups multiple files into a single archive, with the files inside the archive appearing as if they were not compressed.'}\n",
      "{\"topic\": \"zip format\", \"citations\": [{\"citation_number\": 1, \"source\": \"https://example.com\"}], \"answer\": \"The .zip format is a compressed file format that groups multiple files into a single archive, with the files inside the archive appearing as if they were not compressed.\"}\n",
      "topic: zip format\n",
      "citations:\n",
      "  - citation_number: 1\n",
      "    source: https://example.com\n",
      "answer: The .zip format is a compressed file format that groups multiple files into a single archive, with the files inside the archive appearing as if they were not compressed.\n",
      "\n"
     ]
    }
   ],
   "source": [
    "example_dictionary = {\n",
    "    \"topic\": \"zip format\",\n",
    "    \"citations\": [{\"citation_number\": 1, \"source\": \"https://example.com\"}],\n",
    "    \"answer\": \"The .zip format is a compressed file format that groups multiple files into a single archive, with the files inside the archive appearing as if they were not compressed.\"\n",
    "}\n",
    "\n",
    "example_json_string = '{\"topic\": \"zip format\", \"citations\": [{\"citation_number\": 1, \"source\": \"https://example.com\"}], \"answer\": \"The .zip format is a compressed file format that groups multiple files into a single archive, with the files inside the archive appearing as if they were not compressed.\"}'\n",
    "\n",
    "example_yaml_string = \"\"\"topic: zip format\n",
    "citations:\n",
    "  - citation_number: 1\n",
    "    source: https://example.com\n",
    "answer: The .zip format is a compressed file format that groups multiple files into a single archive, with the files inside the archive appearing as if they were not compressed.\n",
    "\"\"\"\n",
    "print(example_dictionary)\n",
    "print(example_json_string)\n",
    "print(example_yaml_string)\n"
   ]
  },
  {
   "cell_type": "code",
   "execution_count": 12,
   "metadata": {},
   "outputs": [
    {
     "name": "stdout",
     "output_type": "stream",
     "text": [
      "Claude response: {\n",
      "    \"topic\": \"JSON schema\",\n",
      "    \"citations\": [\n",
      "        {\n",
      "            \"citation_number\": 1,\n",
      "            \"source\": \"https://json-schema.org/understanding-json-schema/\"\n",
      "        }\n",
      "    ],\n",
      "    \"answer\": \"A JSON schema is a declarative language that allows you to annotate and validate JSON documents, defining the structure, constraints, and documentation of JSON data.\"\n",
      "}\n",
      "Claude response: {\n",
      "  \"topic\": \"JSON schema\",\n",
      "  \"citations\": [\n",
      "    {\n",
      "      \"citation_number\": 1,\n",
      "      \"source\": \"https://json-schema.org/understanding-json-schema/\"\n",
      "    }\n",
      "  ],\n",
      "  \"answer\": \"A JSON schema is a declarative language that allows you to annotate and validate JSON documents, defining the structure, constraints, and documentation of JSON data.\"\n",
      "}\n",
      "Claude response: topic: JSON schema\n",
      "\n",
      "citations:\n",
      "  - citation_number: 1\n",
      "    source: https://json-schema.org/understanding-json-schema/\n",
      "\n",
      "answer: A JSON schema is a declarative language that allows you to annotate and validate JSON documents, defining the structure, constraints, and documentation of JSON data.\n"
     ]
    }
   ],
   "source": [
    "response_list = []\n",
    "for example in [example_dictionary, example_json_string, example_yaml_string]:\n",
    "    response = client.messages.create(\n",
    "        model=\"claude-3-5-sonnet-20240620\",\n",
    "        system=f\"You are a helpful assistant that responds in the same format as the following example: {example}\",\n",
    "        messages=[\n",
    "            {\"role\": \"user\", \"content\": \"What is a JSON schema in a sentence?\"}\n",
    "        ],\n",
    "        max_tokens=200,\n",
    "    )\n",
    "    response_list.append(response.content[0].text)\n",
    "    print(f\"Claude response: {response.content[0].text}\")"
   ]
  },
  {
   "cell_type": "code",
   "execution_count": 13,
   "metadata": {},
   "outputs": [
    {
     "name": "stdout",
     "output_type": "stream",
     "text": [
      "\n",
      "Parsed DICT response:\n",
      "Topic: JSON schema\n",
      "Citation: {'citation_number': 1, 'source': 'https://json-schema.org/understanding-json-schema/'}\n",
      "Answer: A JSON schema is a declarative language that allows you to annotate and validate JSON documents, defining the structure, constraints, and documentation of JSON data.\n",
      "\n",
      "Parsed JSON response:\n",
      "Topic: JSON schema\n",
      "Citation: {'citation_number': 1, 'source': 'https://json-schema.org/understanding-json-schema/'}\n",
      "Answer: A JSON schema is a declarative language that allows you to annotate and validate JSON documents, defining the structure, constraints, and documentation of JSON data.\n",
      "\n",
      "Parsed YAML response:\n",
      "Topic: JSON schema\n",
      "Citation: {'citation_number': 1, 'source': 'https://json-schema.org/understanding-json-schema/'}\n",
      "Answer: A JSON schema is a declarative language that allows you to annotate and validate JSON documents, defining the structure, constraints, and documentation of JSON data.\n"
     ]
    }
   ],
   "source": [
    "import json\n",
    "import yaml\n",
    "import ast\n",
    "\n",
    "def parse_response(response, format_type):\n",
    "    try:\n",
    "        if format_type == 'dict':\n",
    "            # WARNING: ast.literal_eval is safer than eval, but still use caution\n",
    "            return ast.literal_eval(response)\n",
    "        elif format_type == 'json':\n",
    "            return json.loads(response)\n",
    "        elif format_type == 'yaml':\n",
    "            return yaml.safe_load(response)\n",
    "    except Exception as e:\n",
    "        print(f\"Error parsing {format_type} response: {e}\")\n",
    "        return None\n",
    "\n",
    "# Parse and print each response\n",
    "for response, format_type in zip(response_list, ['dict', 'json', 'yaml']):\n",
    "    parsed = parse_response(response, format_type)\n",
    "    if parsed:\n",
    "        print(f\"\\nParsed {format_type.upper()} response:\")\n",
    "        print(f\"Topic: {parsed.get('topic')}\")\n",
    "        print(f\"Citation: {parsed.get('citations')[0] if parsed.get('citations') else 'No citation'}\")\n",
    "        print(f\"Answer: {parsed.get('answer')}\")\n",
    "    else:\n",
    "        print(f\"\\nFailed to parse {format_type.upper()} response\")"
   ]
  },
  {
   "cell_type": "code",
   "execution_count": null,
   "metadata": {},
   "outputs": [],
   "source": []
  }
 ],
 "metadata": {
  "kernelspec": {
   "display_name": ".venv",
   "language": "python",
   "name": "python3"
  },
  "language_info": {
   "codemirror_mode": {
    "name": "ipython",
    "version": 3
   },
   "file_extension": ".py",
   "mimetype": "text/x-python",
   "name": "python",
   "nbconvert_exporter": "python",
   "pygments_lexer": "ipython3",
   "version": "3.12.4"
  }
 },
 "nbformat": 4,
 "nbformat_minor": 2
}
