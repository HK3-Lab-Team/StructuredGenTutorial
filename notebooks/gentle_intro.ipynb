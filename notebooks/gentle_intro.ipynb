{
 "cells": [
  {
   "cell_type": "markdown",
   "metadata": {},
   "source": [
    "# A Gentle Introduction to Structured Generation with Anthropic API"
   ]
  },
  {
   "cell_type": "markdown",
   "metadata": {},
   "source": [
    "This notebook reports the code for the examples in the blog post A Gentle Introduction to Structured Generation with Anthropic API, the first in the series \"Building Reproducible LLM Applications\"."
   ]
  },
  {
   "cell_type": "markdown",
   "metadata": {},
   "source": [
    "### Motivating Examples for Structured Generation\n",
    "\n",
    "Extracting information from unstructured text (e.g., with regular expressions) can be cumbersome and error-prone. Structured generation avoids this pitfall, making the models' outputs easier to parse without manual intervention."
   ]
  },
  {
   "cell_type": "code",
   "execution_count": null,
   "metadata": {},
   "outputs": [
    {
     "name": "stdout",
     "output_type": "stream",
     "text": [
      "{'order_number': '12345', 'status': 'in transit', 'shipped_date': 'yesterday', 'estimated_delivery': '3-5 business'}\n"
     ]
    }
   ],
   "source": [
    "import re\n",
    "def process_unstructured_response(response: str):\n",
    "    \"\"\"Only working for the specific example\"\"\"\n",
    "    # Extract order number\n",
    "    order_number_match = re.search(r'order #(\\d+)', response)\n",
    "    order_number = order_number_match.group(1) if order_number_match else None\n",
    "\n",
    "    # Extract status\n",
    "    status_match = re.search(r\"it's currently ([\\w\\s]+)\", response)\n",
    "    status = status_match.group(1) if status_match else None\n",
    "\n",
    "    # Extract shipping information\n",
    "    shipped_match = re.search(r'It was shipped (\\w+)', response)\n",
    "    shipped_date = shipped_match.group(1) if shipped_match else None\n",
    "\n",
    "    # Extract estimated delivery time\n",
    "    delivery_match = re.search(r'expected to arrive within (\\d+-\\d+) (\\w+)', response)\n",
    "    if delivery_match:\n",
    "        delivery_time = delivery_match.group(1)\n",
    "        delivery_unit = delivery_match.group(2)\n",
    "    else:\n",
    "        delivery_time = None\n",
    "        delivery_unit = None\n",
    "\n",
    "    return {\n",
    "        \"order_number\": order_number,\n",
    "        \"status\": status,\n",
    "        \"shipped_date\": shipped_date,\n",
    "        \"estimated_delivery\": f\"{delivery_time} {delivery_unit}\" if delivery_time and delivery_unit else None\n",
    "    }\n",
    "\n",
    "# Test the function\n",
    "response = \"I've checked your order #12345, and it's currently in transit. It was shipped yesterday and is expected to arrive within 3-5 business days. Is there anything else I can help you with?\"\n",
    "result = process_unstructured_response(response)\n",
    "print(result)"
   ]
  },
  {
   "cell_type": "markdown",
   "metadata": {},
   "source": [
    "### Set Up Environment and Test Anthropic API\n"
   ]
  },
  {
   "cell_type": "markdown",
   "metadata": {},
   "source": [
    "Initialize the client with the API key. The key should be stored in a `.env` file."
   ]
  },
  {
   "cell_type": "code",
   "execution_count": 2,
   "metadata": {},
   "outputs": [],
   "source": [
    "import anthropic\n",
    "from dotenv import load_dotenv\n",
    "import os\n",
    "load_dotenv()\n",
    "key = os.environ[\"ANTHROPIC_API_KEY\"]\n",
    "if key is None:\n",
    "    raise ValueError(\"Error: ANTHROPIC_API_KEY not found\")\n",
    "client = anthropic.Anthropic(\n",
    "    api_key=key,\n",
    ")"
   ]
  },
  {
   "cell_type": "code",
   "execution_count": 7,
   "metadata": {},
   "outputs": [
    {
     "name": "stdout",
     "output_type": "stream",
     "text": [
      "Message(id='msg_01JP2jU4EmvgYXbpcGSrdxu6', content=[TextBlock(text='A JSON schema is a declarative format for describing the structure, content, and validation rules of JSON data.', type='text')], model='claude-3-5-sonnet-20240620', role='assistant', stop_reason='end_turn', stop_sequence=None, type='message', usage=Usage(input_tokens=16, output_tokens=25))\n"
     ]
    }
   ],
   "source": [
    "# Test the API key is working with a simple query\n",
    "response = client.messages.create(\n",
    "    model=\"claude-3-5-sonnet-20240620\",\n",
    "    messages=[\n",
    "        {\"role\": \"user\", \"content\": \"What is a JSON schema in a sentence?\"}\n",
    "    ],\n",
    "    max_tokens=200,\n",
    ")\n",
    "print(response)\n"
   ]
  },
  {
   "cell_type": "code",
   "execution_count": 8,
   "metadata": {},
   "outputs": [
    {
     "name": "stdout",
     "output_type": "stream",
     "text": [
      "A JSON schema is a declarative format for describing the structure, content, and validation rules of JSON data.\n"
     ]
    }
   ],
   "source": [
    "# Access the model's text response\n",
    "text_response = response.content[0].text\n",
    "print(text_response)"
   ]
  },
  {
   "cell_type": "markdown",
   "metadata": {},
   "source": [
    "### Using System Prompts to Guide Output Formats"
   ]
  },
  {
   "cell_type": "markdown",
   "metadata": {},
   "source": [
    "First, we define some schemas, in different formats, that we want Claude to respond in."
   ]
  },
  {
   "cell_type": "code",
   "execution_count": 9,
   "metadata": {},
   "outputs": [
    {
     "name": "stdout",
     "output_type": "stream",
     "text": [
      "{'topic': 'zip format', 'citations': [{'citation_number': 1, 'source': 'https://example.com'}], 'answer': 'The .zip format is a compressed file format that groups multiple files into a single archive, with the files inside the archive appearing as if they were not compressed.'}\n",
      "{\"topic\": \"zip format\", \"citations\": [{\"citation_number\": 1, \"source\": \"https://example.com\"}], \"answer\": \"The .zip format is a compressed file format that groups multiple files into a single archive, with the files inside the archive appearing as if they were not compressed.\"}\n",
      "topic: zip format\n",
      "citations:\n",
      "  - citation_number: 1\n",
      "    source: https://example.com\n",
      "answer: The .zip format is a compressed file format that groups multiple files into a single archive, with the files inside the archive appearing as if they were not compressed.\n",
      "\n"
     ]
    }
   ],
   "source": [
    "example_dictionary = {\n",
    "    \"topic\": \"zip format\",\n",
    "    \"citations\": [{\"citation_number\": 1, \"source\": \"https://example.com\"}],\n",
    "    \"answer\": \"The .zip format is a compressed file format that groups multiple files into a single archive, with the files inside the archive appearing as if they were not compressed.\"\n",
    "}\n",
    "\n",
    "example_json_string = '{\"topic\": \"zip format\", \"citations\": [{\"citation_number\": 1, \"source\": \"https://example.com\"}], \"answer\": \"The .zip format is a compressed file format that groups multiple files into a single archive, with the files inside the archive appearing as if they were not compressed.\"}'\n",
    "\n",
    "example_yaml_string = \"\"\"topic: zip format\n",
    "citations:\n",
    "  - citation_number: 1\n",
    "    source: https://example.com\n",
    "answer: The .zip format is a compressed file format that groups multiple files into a single archive, with the files inside the archive appearing as if they were not compressed.\n",
    "\"\"\"\n",
    "print(example_dictionary)\n",
    "print(example_json_string)\n",
    "print(example_yaml_string)\n"
   ]
  },
  {
   "cell_type": "markdown",
   "metadata": {},
   "source": [
    "Now, we use the Claude API to generate responses in the same format as the examples above."
   ]
  },
  {
   "cell_type": "code",
   "execution_count": 12,
   "metadata": {},
   "outputs": [
    {
     "name": "stdout",
     "output_type": "stream",
     "text": [
      "Claude response: {\n",
      "    \"topic\": \"JSON schema\",\n",
      "    \"citations\": [\n",
      "        {\n",
      "            \"citation_number\": 1,\n",
      "            \"source\": \"https://json-schema.org/understanding-json-schema/\"\n",
      "        }\n",
      "    ],\n",
      "    \"answer\": \"A JSON schema is a declarative language that allows you to annotate and validate JSON documents, defining the structure, constraints, and documentation of JSON data.\"\n",
      "}\n",
      "Claude response: {\n",
      "  \"topic\": \"JSON schema\",\n",
      "  \"citations\": [\n",
      "    {\n",
      "      \"citation_number\": 1,\n",
      "      \"source\": \"https://json-schema.org/understanding-json-schema/\"\n",
      "    }\n",
      "  ],\n",
      "  \"answer\": \"A JSON schema is a declarative language that allows you to annotate and validate JSON documents, defining the structure, constraints, and documentation of JSON data.\"\n",
      "}\n",
      "Claude response: topic: JSON schema\n",
      "\n",
      "citations:\n",
      "  - citation_number: 1\n",
      "    source: https://json-schema.org/understanding-json-schema/\n",
      "\n",
      "answer: A JSON schema is a declarative language that allows you to annotate and validate JSON documents, defining the structure, constraints, and documentation of JSON data.\n"
     ]
    }
   ],
   "source": [
    "# Examples are included in the system prompt, so Claude knows the format we want\n",
    "response_list = []\n",
    "for example in [example_dictionary, example_json_string, example_yaml_string]:\n",
    "    response = client.messages.create(\n",
    "        model=\"claude-3-5-sonnet-20240620\",\n",
    "        system=f\"You are a helpful assistant that responds in the same format as the following example: {example}\",\n",
    "        messages=[\n",
    "            {\"role\": \"user\", \"content\": \"What is a JSON schema in a sentence?\"}\n",
    "        ],\n",
    "        max_tokens=200,\n",
    "    )\n",
    "    response_list.append(response.content[0].text)\n",
    "    print(f\"Claude response: {response.content[0].text}\")"
   ]
  },
  {
   "cell_type": "markdown",
   "metadata": {},
   "source": [
    "With structured responses, we can parse the responses into the format we specified before. Information is neatly organized and easy to access."
   ]
  },
  {
   "cell_type": "code",
   "execution_count": 13,
   "metadata": {},
   "outputs": [
    {
     "name": "stdout",
     "output_type": "stream",
     "text": [
      "\n",
      "Parsed DICT response:\n",
      "Topic: JSON schema\n",
      "Citation: {'citation_number': 1, 'source': 'https://json-schema.org/understanding-json-schema/'}\n",
      "Answer: A JSON schema is a declarative language that allows you to annotate and validate JSON documents, defining the structure, constraints, and documentation of JSON data.\n",
      "\n",
      "Parsed JSON response:\n",
      "Topic: JSON schema\n",
      "Citation: {'citation_number': 1, 'source': 'https://json-schema.org/understanding-json-schema/'}\n",
      "Answer: A JSON schema is a declarative language that allows you to annotate and validate JSON documents, defining the structure, constraints, and documentation of JSON data.\n",
      "\n",
      "Parsed YAML response:\n",
      "Topic: JSON schema\n",
      "Citation: {'citation_number': 1, 'source': 'https://json-schema.org/understanding-json-schema/'}\n",
      "Answer: A JSON schema is a declarative language that allows you to annotate and validate JSON documents, defining the structure, constraints, and documentation of JSON data.\n"
     ]
    }
   ],
   "source": [
    "import json\n",
    "import yaml\n",
    "import ast\n",
    "\n",
    "def parse_response(response, format_type):\n",
    "    try:\n",
    "        if format_type == 'dict':\n",
    "            # WARNING: ast.literal_eval is safer than eval, but still use caution\n",
    "            return ast.literal_eval(response)\n",
    "        elif format_type == 'json':\n",
    "            return json.loads(response)\n",
    "        elif format_type == 'yaml':\n",
    "            return yaml.safe_load(response)\n",
    "    except Exception as e:\n",
    "        print(f\"Error parsing {format_type} response: {e}\")\n",
    "        return None\n",
    "\n",
    "# Parse and print each response\n",
    "for response, format_type in zip(response_list, ['dict', 'json', 'yaml']):\n",
    "    parsed = parse_response(response, format_type)\n",
    "    if parsed:\n",
    "        print(f\"\\nParsed {format_type.upper()} response:\")\n",
    "        print(f\"Topic: {parsed.get('topic')}\")\n",
    "        print(f\"Citation: {parsed.get('citations')[0] if parsed.get('citations') else 'No citation'}\")\n",
    "        print(f\"Answer: {parsed.get('answer')}\")\n",
    "    else:\n",
    "        print(f\"\\nFailed to parse {format_type.upper()} response\")"
   ]
  },
  {
   "cell_type": "markdown",
   "metadata": {},
   "source": [
    "We can apply the same approach to a list of file formats, and end up with outputs that are consistent from a structural perspective, and easy to parse."
   ]
  },
  {
   "cell_type": "code",
   "execution_count": 14,
   "metadata": {},
   "outputs": [
    {
     "name": "stdout",
     "output_type": "stream",
     "text": [
      "File format information has been saved to file_formats_info.json\n"
     ]
    }
   ],
   "source": [
    "file_formats = [\n",
    "    \"zip\", \"tar\", \"rar\", \"7z\", \"iso\", \"gz\", \"bz2\", \"xz\", \"pdf\", \"docx\"\n",
    "]\n",
    "\n",
    "format_info = {}\n",
    "\n",
    "for format in file_formats:\n",
    "    response = client.messages.create(\n",
    "        model=\"claude-3-5-sonnet-20240620\",\n",
    "        system=f\"You are a helpful assistant that responds in the same format as the following example: {example_json_string}\",\n",
    "        messages=[\n",
    "            {\"role\": \"user\", \"content\": f\"What is the {format} file format in one sentence?\"}\n",
    "        ],\n",
    "        max_tokens=200,\n",
    "    )\n",
    "    \n",
    "    try:\n",
    "        parsed_response = json.loads(response.content[0].text)\n",
    "        format_info[parsed_response['topic']] = parsed_response['answer']\n",
    "    except json.JSONDecodeError:\n",
    "        print(f\"Error parsing response for {format} format\")\n",
    "\n",
    "# Save the dictionary to a JSON file\n",
    "with open('file_formats_info.json', 'w') as f:\n",
    "    json.dump(format_info, f, indent=2)\n",
    "\n",
    "print(\"File format information has been saved to file_formats_info.json\")"
   ]
  }
 ],
 "metadata": {
  "kernelspec": {
   "display_name": ".venv",
   "language": "python",
   "name": "python3"
  },
  "language_info": {
   "codemirror_mode": {
    "name": "ipython",
    "version": 3
   },
   "file_extension": ".py",
   "mimetype": "text/x-python",
   "name": "python",
   "nbconvert_exporter": "python",
   "pygments_lexer": "ipython3",
   "version": "3.12.4"
  }
 },
 "nbformat": 4,
 "nbformat_minor": 2
}
