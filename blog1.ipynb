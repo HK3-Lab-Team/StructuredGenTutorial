{
 "cells": [
  {
   "cell_type": "markdown",
   "metadata": {},
   "source": [
    "# Pydantic as a Toolkit to Define Schemas\n",
    "\n",
    "Basics of Pydantic to write down abstract schemas that can be used to validate data."
   ]
  },
  {
   "cell_type": "code",
   "execution_count": 1,
   "metadata": {},
   "outputs": [
    {
     "name": "stdout",
     "output_type": "stream",
     "text": [
      "/bin/bash: pip: command not found\n"
     ]
    }
   ],
   "source": [
    "!pip install pydantic"
   ]
  },
  {
   "cell_type": "code",
   "execution_count": 2,
   "metadata": {},
   "outputs": [
    {
     "ename": "ModuleNotFoundError",
     "evalue": "No module named 'pydantic'",
     "output_type": "error",
     "traceback": [
      "\u001b[0;31m---------------------------------------------------------------------------\u001b[0m",
      "\u001b[0;31mModuleNotFoundError\u001b[0m                       Traceback (most recent call last)",
      "Cell \u001b[0;32mIn[2], line 1\u001b[0m\n\u001b[0;32m----> 1\u001b[0m \u001b[38;5;28;01mfrom\u001b[39;00m \u001b[38;5;21;01mpydantic\u001b[39;00m \u001b[38;5;28;01mimport\u001b[39;00m BaseModel\n",
      "\u001b[0;31mModuleNotFoundError\u001b[0m: No module named 'pydantic'"
     ]
    }
   ],
   "source": [
    "from pydantic import BaseModel"
   ]
  },
  {
   "cell_type": "code",
   "execution_count": null,
   "metadata": {},
   "outputs": [],
   "source": [
    "class Dogs(BaseModel):\n",
    "    breed: str\n",
    "    toy: str\n",
    "\n",
    "# An instance\n",
    "Bella = Dogs(breed = \"Poodle\", toy=\"ball\")\n",
    "print(Bella)"
   ]
  },
  {
   "cell_type": "code",
   "execution_count": 20,
   "metadata": {},
   "outputs": [],
   "source": [
    "from typing import Literal\n",
    "from enum import Enum\n",
    "\n",
    "class Hair(Enum):\n",
    "    Curly = \"curly\"\n",
    "    Straight = \"straight\"\n",
    "    Shaved = \"shaved\"\n",
    "\n",
    "class Dogs(BaseModel):\n",
    "    breed: str\n",
    "    toy: str\n",
    "    hair: Hair\n",
    "    color: Literal[\"brown\", \"white\"]"
   ]
  },
  {
   "cell_type": "code",
   "execution_count": null,
   "metadata": {},
   "outputs": [],
   "source": [
    "# Charlie is not valid because of toy and color\n",
    "Charlie = Dogs(breed=\"Corgi\", toy=12, hair=Hair.Straight, color=\"red\")"
   ]
  },
  {
   "cell_type": "code",
   "execution_count": 26,
   "metadata": {},
   "outputs": [],
   "source": [
    "from pydantic import Field, field_validator, model_validator\n",
    "from typing import Optional\n",
    "\n",
    "class Dogs(BaseModel):\n",
    "    breed: str = Field(description=\"The name of an existing breed\")\n",
    "    toy: str = Field(max_length=50)\n",
    "    hair: Hair = Field(description=\"The hair type of the dog\")\n",
    "    color: Optional[Literal[\"brown\", \"white\"]] = Field(default=None)\n",
    "    age: int = Field(default=1, gt=0, description=\"Age must be greater than 0\")\n",
    "\n",
    "    @field_validator('breed') \n",
    "    def check_name(cls, value):\n",
    "        if any(char in value for char in \"!@#^*\"):\n",
    "            raise ValueError('Breed cannot contain special characters')\n",
    "        return value\n",
    "    \n",
    "    # Adding a new cross-field validator to the Dogs class\n",
    "    @model_validator(mode='before')\n",
    "    def check_hair_and_color(cls, values):\n",
    "        hair = values.get('hair')\n",
    "        color = values.get('color')\n",
    "        # If hair is shaved, color can be None or absent\n",
    "        if hair == Hair.Shaved and color is not None:\n",
    "            raise ValueError(\"Dogs with shaved hair should not have a color.\")\n",
    "        # If hair is curly or straight, color must be specified and cannot be None\n",
    "        if hair in {Hair.Curly, Hair.Straight} and color is None:\n",
    "            raise ValueError(\"Dogs with curly or straight hair must have a color.\")\n",
    "        return values"
   ]
  },
  {
   "cell_type": "code",
   "execution_count": null,
   "metadata": {},
   "outputs": [],
   "source": [
    "# Coco is not valid because of the hair-color inconsistency\n",
    "Coco = Dogs(breed = \"Beagle\", toy = \"socks\", hair = Hair.Curly, age = 1)"
   ]
  },
  {
   "cell_type": "code",
   "execution_count": null,
   "metadata": {},
   "outputs": [],
   "source": [
    "pydantic_to_json = Dogs.model_json_schema()\n",
    "print(pydantic_to_json)"
   ]
  }
 ],
 "metadata": {
  "kernelspec": {
   "display_name": ".venv",
   "language": "python",
   "name": "python3"
  },
  "language_info": {
   "codemirror_mode": {
    "name": "ipython",
    "version": 3
   },
   "file_extension": ".py",
   "mimetype": "text/x-python",
   "name": "python",
   "nbconvert_exporter": "python",
   "pygments_lexer": "ipython3",
   "version": "3.12.6"
  }
 },
 "nbformat": 4,
 "nbformat_minor": 2
}
